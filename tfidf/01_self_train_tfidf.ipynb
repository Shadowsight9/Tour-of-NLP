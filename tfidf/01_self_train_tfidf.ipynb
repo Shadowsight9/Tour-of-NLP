{
 "cells": [
  {
   "cell_type": "code",
   "execution_count": 1,
   "id": "f6d3cd60",
   "metadata": {},
   "outputs": [],
   "source": [
    "from sklearn.feature_extraction.text import TfidfVectorizer\n",
    "from sklearn.model_selection import train_test_split\n",
    "from sklearn.ensemble import RandomForestClassifier\n",
    "import pandas as pd\n",
    "from icecream import ic\n",
    "from sklearn.metrics import accuracy_score\n",
    "from sklearn.metrics import recall_score\n",
    "from sklearn.metrics import precision_score\n",
    "from sklearn.metrics import f1_score"
   ]
  },
  {
   "cell_type": "markdown",
   "id": "07fd7715",
   "metadata": {},
   "source": [
    "### 设置路径"
   ]
  },
  {
   "cell_type": "code",
   "execution_count": 2,
   "id": "8a9f32dc",
   "metadata": {},
   "outputs": [],
   "source": [
    "TRAIN_CORPUS = 'dataset/train_after_analysis.csv'\n",
    "STOP_WORDS = 'dataset/stopwords.txt'\n",
    "WORDS_COLUMN = 'words_keep'"
   ]
  },
  {
   "cell_type": "code",
   "execution_count": 3,
   "id": "c0d48bc9",
   "metadata": {},
   "outputs": [],
   "source": [
    "content = pd.read_csv(TRAIN_CORPUS)\n",
    "corpus = content[WORDS_COLUMN].values"
   ]
  },
  {
   "cell_type": "markdown",
   "id": "e30d180f",
   "metadata": {},
   "source": [
    "查看corpus"
   ]
  },
  {
   "cell_type": "code",
   "execution_count": 4,
   "id": "e4e5cc48",
   "metadata": {},
   "outputs": [
    {
     "data": {
      "text/plain": [
       "array(['上课时 学生 手机 响个 不停 ， 老师 一怒之下 把 手机 摔 了 ， 家长 拿 发票 让 老师 赔 ，',\n",
       "       '商赢 环球 股份 有限公司 关于 延期 回复 上海证券交易所 对 公司 2017 年 年度报告 的 事后 审核 问询 函 的 公告',\n",
       "       '通过 中介 公司 买 了 二手房 ， 首付 都 付 了 ， 现在 卖家 不想 卖 了 。 怎么 处理', ...,\n",
       "       '端州 ｜ 莫让 网事 随 “ 疯 ” ！ 检察官 老师 和 你 探讨 网 事 知多少 ~ 了解 一下',\n",
       "       '国产 最 霸气 的 东风 越野车 ， 150 万 还 买不到 ， 武装 全身 高大威猛 ！',\n",
       "       '极限 竞速 地平线 3 ， 原创 娱乐 游戏 视频'], dtype=object)"
      ]
     },
     "execution_count": 4,
     "metadata": {},
     "output_type": "execute_result"
    }
   ],
   "source": [
    "corpus"
   ]
  },
  {
   "cell_type": "code",
   "execution_count": 5,
   "id": "44d6cef0",
   "metadata": {},
   "outputs": [],
   "source": [
    "stop_words_size = 100\n",
    "words_long_tail_begin = 10000\n",
    "word_size = words_long_tail_begin - stop_words_size"
   ]
  },
  {
   "cell_type": "code",
   "execution_count": 6,
   "id": "d48040a7",
   "metadata": {},
   "outputs": [],
   "source": [
    "stop_words = open(STOP_WORDS).read().split()[:stop_words_size]"
   ]
  },
  {
   "cell_type": "markdown",
   "id": "0c2990a3",
   "metadata": {},
   "source": [
    "查看stop_words"
   ]
  },
  {
   "cell_type": "code",
   "execution_count": 7,
   "id": "0e58d27e",
   "metadata": {},
   "outputs": [
    {
     "data": {
      "text/plain": [
       "['，',\n",
       " '？',\n",
       " '的',\n",
       " '！',\n",
       " '：',\n",
       " '了',\n",
       " '是',\n",
       " '“',\n",
       " '”',\n",
       " '你',\n",
       " '有',\n",
       " '在',\n",
       " '吗',\n",
       " '什么',\n",
       " '中国',\n",
       " '为什么',\n",
       " '如何',\n",
       " '都',\n",
       " '和',\n",
       " '人',\n",
       " '怎么',\n",
       " '《',\n",
       " '被',\n",
       " '不',\n",
       " '》',\n",
       " '、',\n",
       " '会',\n",
       " '对',\n",
       " '我',\n",
       " '美国',\n",
       " '年',\n",
       " '上',\n",
       " '—',\n",
       " '看',\n",
       " '最',\n",
       " '能',\n",
       " '这',\n",
       " '一个',\n",
       " '要',\n",
       " '好',\n",
       " '还',\n",
       " '就',\n",
       " '将',\n",
       " '后',\n",
       " '与',\n",
       " '大',\n",
       " '中',\n",
       " '让',\n",
       " '哪些',\n",
       " '5',\n",
       " '他',\n",
       " '世界',\n",
       " '却',\n",
       " '去',\n",
       " '新',\n",
       " '到',\n",
       " '月',\n",
       " '2018',\n",
       " '谁',\n",
       " '可以',\n",
       " '多',\n",
       " '说',\n",
       " '也',\n",
       " '又',\n",
       " '上联',\n",
       " '个',\n",
       " '来',\n",
       " '网友',\n",
       " '如果',\n",
       " '手机',\n",
       " '下联',\n",
       " '日本',\n",
       " '做',\n",
       " '用',\n",
       " '没有',\n",
       " '还是',\n",
       " '万',\n",
       " '现在',\n",
       " '为',\n",
       " '农村',\n",
       " '为何',\n",
       " '买',\n",
       " '…',\n",
       " '「',\n",
       " '」',\n",
       " '给',\n",
       " '这个',\n",
       " '3',\n",
       " '把',\n",
       " '岁',\n",
       " '-',\n",
       " '怎样',\n",
       " '呢',\n",
       " '多少',\n",
       " '一',\n",
       " '｜',\n",
       " '10',\n",
       " '（',\n",
       " '很',\n",
       " '）']"
      ]
     },
     "execution_count": 7,
     "metadata": {},
     "output_type": "execute_result"
    }
   ],
   "source": [
    "stop_words"
   ]
  },
  {
   "cell_type": "markdown",
   "id": "52836117",
   "metadata": {},
   "source": [
    "### max_features：\n",
    "默认为None，可设为int，对所有关键词的term frequency进行降序排序，只取前max_features个作为关键词集\n",
    "停用词是指在信息检索中，为节省存储空间和提高搜索效率，在处理自然语言数据（或文本）之前或之后会自动过滤掉某些字或词，这些字或词即被称为Stop Words（停用词）"
   ]
  },
  {
   "cell_type": "markdown",
   "id": "9bd02bcb",
   "metadata": {},
   "source": [
    "### fit_transform()的作用\n",
    "就是先拟合数据，然后转化它将其转化为标准形式。"
   ]
  },
  {
   "cell_type": "code",
   "execution_count": 8,
   "id": "330b4121",
   "metadata": {},
   "outputs": [
    {
     "name": "stdout",
     "output_type": "stream",
     "text": [
      "(53360, 9900)\n"
     ]
    }
   ],
   "source": [
    "tfidf = TfidfVectorizer(max_features=word_size, stop_words=stop_words)\n",
    "text_vectors = tfidf.fit_transform(corpus)\n",
    "print(text_vectors.shape)"
   ]
  },
  {
   "cell_type": "code",
   "execution_count": 9,
   "id": "9c118b11",
   "metadata": {},
   "outputs": [],
   "source": [
    "targets = content['label']"
   ]
  },
  {
   "cell_type": "code",
   "execution_count": 10,
   "id": "47b497e1",
   "metadata": {},
   "outputs": [],
   "source": [
    "x_train, x_test, y_train, y_test = train_test_split(text_vectors, targets, test_size=0.2, random_state=0)"
   ]
  },
  {
   "cell_type": "markdown",
   "id": "788462d0",
   "metadata": {},
   "source": [
    "## 使用了随机森林"
   ]
  },
  {
   "cell_type": "code",
   "execution_count": 11,
   "id": "61724c2e",
   "metadata": {},
   "outputs": [],
   "source": [
    "rf = RandomForestClassifier()\n",
    "rf.fit(x_train, y_train)\n",
    "acc = accuracy_score(rf.predict(x_test), y_test)"
   ]
  },
  {
   "cell_type": "markdown",
   "id": "a462b29c",
   "metadata": {},
   "source": [
    "## 使用了icecream 输出"
   ]
  },
  {
   "cell_type": "code",
   "execution_count": 12,
   "id": "cd725b47",
   "metadata": {},
   "outputs": [
    {
     "data": {
      "text/plain": [
       "0.5020614692653673"
      ]
     },
     "execution_count": 12,
     "metadata": {},
     "output_type": "execute_result"
    }
   ],
   "source": [
    "acc"
   ]
  },
  {
   "cell_type": "code",
   "execution_count": 13,
   "id": "71159ef8",
   "metadata": {},
   "outputs": [
    {
     "name": "stderr",
     "output_type": "stream",
     "text": [
      "ic| acc: 0.5020614692653673\n"
     ]
    },
    {
     "data": {
      "text/plain": [
       "0.5020614692653673"
      ]
     },
     "execution_count": 13,
     "metadata": {},
     "output_type": "execute_result"
    }
   ],
   "source": [
    "ic(acc)"
   ]
  },
  {
   "cell_type": "markdown",
   "id": "cb609d49",
   "metadata": {},
   "source": [
    "## cecream是一个python的库，可以用最小的代码打印出更多debug的可读信息。"
   ]
  },
  {
   "cell_type": "markdown",
   "id": "bb8b4ab3",
   "metadata": {},
   "source": [
    "让我们尝试用它输出一个Python函数"
   ]
  },
  {
   "cell_type": "code",
   "execution_count": 14,
   "id": "357573ec",
   "metadata": {},
   "outputs": [
    {
     "name": "stderr",
     "output_type": "stream",
     "text": [
      "ic| plus_five(4): 9\n",
      "ic| plus_five(5): 10\n"
     ]
    },
    {
     "data": {
      "text/plain": [
       "10"
      ]
     },
     "execution_count": 14,
     "metadata": {},
     "output_type": "execute_result"
    }
   ],
   "source": [
    "def plus_five(num):\n",
    "    return num+5\n",
    "\n",
    "ic(plus_five(4)) \n",
    "ic(plus_five(5)) "
   ]
  },
  {
   "cell_type": "markdown",
   "id": "81caecf5",
   "metadata": {},
   "source": [
    "通过使用ic，我们不仅看到了结果，也看到了函数形式和参数。这是多么简洁，在你终端的颜色可以显示出具体参数。"
   ]
  }
 ],
 "metadata": {
  "kernelspec": {
   "display_name": "Python 3 (ipykernel)",
   "language": "python",
   "name": "python3"
  },
  "language_info": {
   "codemirror_mode": {
    "name": "ipython",
    "version": 3
   },
   "file_extension": ".py",
   "mimetype": "text/x-python",
   "name": "python",
   "nbconvert_exporter": "python",
   "pygments_lexer": "ipython3",
   "version": "3.9.7"
  }
 },
 "nbformat": 4,
 "nbformat_minor": 5
}
