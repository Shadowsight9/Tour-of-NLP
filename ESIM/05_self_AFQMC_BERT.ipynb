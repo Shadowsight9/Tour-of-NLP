{
 "cells": [
  {
   "cell_type": "code",
   "execution_count": null,
   "id": "9cab9076",
   "metadata": {},
   "outputs": [],
   "source": [
    "! pip install --upgrade torch==1.6.0\n",
    "! pip install torchvision==0.7.0"
   ]
  }
 ],
 "metadata": {
  "kernelspec": {
   "display_name": "Python 3 (ipykernel)",
   "language": "python",
   "name": "python3"
  },
  "language_info": {
   "codemirror_mode": {
    "name": "ipython",
    "version": 3
   },
   "file_extension": ".py",
   "mimetype": "text/x-python",
   "name": "python",
   "nbconvert_exporter": "python",
   "pygments_lexer": "ipython3",
   "version": "3.9.7"
  }
 },
 "nbformat": 4,
 "nbformat_minor": 5
}
