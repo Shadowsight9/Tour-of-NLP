{
 "cells": [
  {
   "cell_type": "code",
   "execution_count": null,
   "id": "1fef4a68",
   "metadata": {},
   "outputs": [],
   "source": [
    "!nvidia-smi"
   ]
  },
  {
   "cell_type": "code",
   "execution_count": null,
   "id": "dc9e15cb",
   "metadata": {},
   "outputs": [],
   "source": [
    "from google.colab import drive\n",
    "import sys\n",
    "drive.mount('/content/drive')\n",
    "#设置路径\n",
    "sys.path.append('/content/drive/MyDrive/Colab Notebooks')"
   ]
  },
  {
   "cell_type": "code",
   "execution_count": null,
   "id": "eb14c151",
   "metadata": {},
   "outputs": [],
   "source": [
    "! pip install transformers==4.0.1"
   ]
  },
  {
   "cell_type": "code",
   "execution_count": null,
   "id": "01ecf1ca",
   "metadata": {},
   "outputs": [],
   "source": [
    "! pip install  torch==1.6.0"
   ]
  },
  {
   "cell_type": "code",
   "execution_count": null,
   "id": "365865c6",
   "metadata": {},
   "outputs": [],
   "source": [
    "! pip install torchvision==0.7.0"
   ]
  },
  {
   "cell_type": "code",
   "execution_count": null,
   "id": "5924d70e",
   "metadata": {},
   "outputs": [],
   "source": [
    "! pip install numpy==1.17.0"
   ]
  },
  {
   "cell_type": "markdown",
   "id": "cccccd71",
   "metadata": {},
   "source": [
    "## logging\n",
    "Transformers 有一个集中的日志记录系统，因此您可以轻松设置库的详细程度。\n",
    "目前该库的默认详细程度是WARNING.\n",
    "* transformers.logging.CRITICALor transformers.logging.FATAL(int value, 50)：只报告最严重的错误。\n",
    "* transformers.logging.ERROR(int value, 40)：只报告错误。\n",
    "* transformers.logging.WARNINGor transformers.logging.WARN(int value, 30)：只报告错误和警告。这是库使用的默认级别。\n",
    "* transformers.logging.INFO(int value, 20)：报告错误、警告和基本信息。\n",
    "* transformers.logging.DEBUG(int value, 10)：上报所有信息。"
   ]
  },
  {
   "cell_type": "code",
   "execution_count": null,
   "id": "ef63b10d",
   "metadata": {},
   "outputs": [],
   "source": [
    "import random\n",
    "import json\n",
    "import pandas as pd\n",
    "import numpy as np\n",
    "import os\n",
    "import torch\n",
    "from transformer import logging\n",
    "from transformers import BertTokenizer\n",
    "from collections import defaultdict\n",
    "from tqdm import tqdm\n",
    "def seed_everything(seed):\n",
    "  random.seed(seed)\n",
    "  np.random.seed(seed)\n",
    "  torch.manual_seed(seed)\n",
    "  torch.cuda.manual_seed_all(seed)\n",
    "  return seed\n",
    "\n",
    "logging.set_verbosity_info()\n",
    "seed_everything(2022)"
   ]
  }
 ],
 "metadata": {
  "kernelspec": {
   "display_name": "Python 3 (ipykernel)",
   "language": "python",
   "name": "python3"
  },
  "language_info": {
   "codemirror_mode": {
    "name": "ipython",
    "version": 3
   },
   "file_extension": ".py",
   "mimetype": "text/x-python",
   "name": "python",
   "nbconvert_exporter": "python",
   "pygments_lexer": "ipython3",
   "version": "3.9.7"
  }
 },
 "nbformat": 4,
 "nbformat_minor": 5
}
