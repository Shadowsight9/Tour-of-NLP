{
 "cells": [
  {
   "cell_type": "code",
   "execution_count": 1,
   "id": "2b18407a",
   "metadata": {},
   "outputs": [
    {
     "data": {
      "text/plain": [
       "2022"
      ]
     },
     "execution_count": 1,
     "metadata": {},
     "output_type": "execute_result"
    }
   ],
   "source": [
    "import torch\n",
    "import random\n",
    "import numpy as np\n",
    "config = {\n",
    "    'train_file_path':'dataset/train.csv',\n",
    "    'test_file_path':'dataset/test.csv',\n",
    "    'train_val_ratio':0.1,\n",
    "    'model_path':'dataset/BERT_model',\n",
    "    'batch_size':16,\n",
    "    'num_epochs':1,\n",
    "    'learning_rate':2e-5,\n",
    "    'logging_step':500,\n",
    "    'seed':2022\n",
    "}\n",
    "config['device'] = 'cuda' if torch.cuda.is_available() else 'cpu'\n",
    "\n",
    "def seed_everything(seed):\n",
    "    random.seed(seed)\n",
    "    np.random.seed(seed)\n",
    "    torch.manual_seed(seed)\n",
    "    torch.cuda.manual_seed_all(seed)\n",
    "    return seed\n",
    "\n",
    "seed_everything(config['seed'])"
   ]
  },
  {
   "cell_type": "code",
   "execution_count": 2,
   "id": "7cdd92b9",
   "metadata": {},
   "outputs": [],
   "source": [
    "import pandas as pd\n",
    "from tqdm import tqdm\n",
    "from collections import defaultdict\n",
    "def read_data(config, tokenizer, mode = 'train'):\n",
    "    data_df = pd.read_csv(config[f'{mode}_file_path'], sep=',')\n",
    "    if mode == 'train':\n",
    "        # 如果是训练文件 则划分训练集、测试集\n",
    "        X_train, y_train = defaultdict(list),[]\n",
    "        X_val, y_val = defaultdict(list),[]\n",
    "        num_val = int(len(data_df) * config['train_val_ratio'])\n",
    "    else:\n",
    "        #只生成测试集\n",
    "        X_test, y_test = defaultdict(list),[]\n",
    "        \n",
    "        \n",
    "    for i, row in tqdm(data_df.iterrows(), desc=f'preprocess {mode} data', total =len(data_df)):\n",
    "        #得到每个句子的标签\n",
    "        label = row[1] if mode == 'train' else 0\n",
    "        #得到每个句子\n",
    "        sentence = row[-1]\n",
    "        # add_special_tokens 添加一些特殊的toke： CLS、 SEP\n",
    "        # return_token_type_ids 返回每个词所对应的id\n",
    "        # return_attention_mask 批量时， padding部分无需注意\n",
    "        inputs = tokenizer.encode_plus(sentence, add_special_tokens = True, return_token_type_ids =True, return_attention_mask = True )\n",
    "        # return：\n",
    "        # input_ids；\n",
    "        # token_type_ids\n",
    "        # attention_mask\n",
    "        if mode == 'train':\n",
    "            if i < num_val:\n",
    "                X_val['inputs_ids'].append(inputs['input_ids'])\n",
    "                y_val.append(label)\n",
    "                X_val['token_type_ids'].append(inputs['token_type_ids'])\n",
    "                X_val['attention_mask'].append(inputs['attention_mask'])\n",
    "            else:\n",
    "                X_train['inputs_ids'].append(inputs['input_ids'])\n",
    "                y_train.append(label)\n",
    "                X_train['token_type_ids'].append(inputs['token_type_ids'])\n",
    "                X_train['attention_mask'].append(inputs['attention_mask'])\n",
    "                \n",
    "        else:\n",
    "                X_test['inputs_ids'].append(inputs['input_ids'])\n",
    "                y_test.append(label) \n",
    "                X_test['token_type_ids'].append(inputs['token_type_ids'])\n",
    "                X_test['attention_mask'].append(inputs['attention_mask'])\n",
    "                \n",
    "                \n",
    "    if mode == 'train':\n",
    "        label2id ={label: i for i, label in enumerate(np.unique(y_train))}\n",
    "        id2label ={i: label for label, i in label2id.items()}\n",
    "        y_train = torch.tensor([label2id[i] for i in y_train],dtype = torch.long)\n",
    "        y_val = torch.tensor([label2id[i] for i in y_val],dtype = torch.long)\n",
    "        return X_train, y_train, X_val, y_val, label2id, id2label\n",
    "    \n",
    "    else:\n",
    "        y_test = torch.tensor(y_test, dtype = torch.long)\n",
    "        return X_test,y_test        "
   ]
  },
  {
   "cell_type": "code",
   "execution_count": 3,
   "id": "7e12c6d4",
   "metadata": {},
   "outputs": [],
   "source": [
    "from torch.utils.data import Dataset\n",
    "class TNEWSData(Dataset):\n",
    "    def __init__(self, X, y):\n",
    "        self.x = X\n",
    "        self.y = y \n",
    "    \n",
    "    def __getitem__(self, idx):\n",
    "        return {\n",
    "            'inputs_ids': self.x['inputs_ids'][idx],\n",
    "            'label': self.y[idx],\n",
    "            'token_type_ids': self.x['token_type_ids'][idx],\n",
    "            'attention_mask': self.x['attention_mask'][idx]\n",
    "        }\n",
    "    def __len__(self):\n",
    "        return self.y.size(0)"
   ]
  },
  {
   "cell_type": "markdown",
   "id": "ba2c2a00",
   "metadata": {},
   "source": [
    "从TNEWSData返回的一个example \n",
    "     \n",
    "        {\n",
    "            'inputs_ids' : self.x['inputs_ids'][idx],\n",
    "            'label' : self.y[idx],\n",
    "            # ---------------------- part 1 ---------------------- #\n",
    "            'token_type_ids': self.x['token_type_ids'][idx],\n",
    "            'attention_mask': self.x['attention_mask'][idx]\n",
    "            # ---------------------- part 1 ---------------------- #\n",
    "        }\n",
    "        \n",
    "        \n",
    "取多次 examples，使用collate_fn整合到一起，变成一个tensor, 以便并行加载"
   ]
  },
  {
   "cell_type": "code",
   "execution_count": 4,
   "id": "00296b48",
   "metadata": {},
   "outputs": [],
   "source": [
    "def collate_fn(example):\n",
    "    #从 TNEWData 返回的{}中，多了两个key：token_type_ids、attention_mask\n",
    "    input_ids_list = []\n",
    "    labels = []\n",
    "    token_type_ids_list = []\n",
    "    attention_mask_list = []\n",
    "    \n",
    "    for ex in example:\n",
    "        input_ids_list.append(ex['inputs_ids'])\n",
    "        labels.append(ex['label'])\n",
    "        token_type_ids_list.append(ex['token_type_ids'])\n",
    "        attention_mask_list.append(ex['attention_mask'])\n",
    "    \n",
    "    #对齐放入tensor\n",
    "    max_len = max(len(input_ids) for input_ids in input_ids_list)\n",
    "    # shape (len(labels), max_length)\n",
    "    input_ids_tensor = torch.zeros((len(labels), max_len), dtype=torch.long)\n",
    "    token_type_ids_tensor = torch.zeros_like(input_ids_tensor)\n",
    "    attention_mask_tensor = torch.zeros_like(input_ids_tensor)\n",
    "    \n",
    "    \n",
    "    # 把列表中的数据放入tensor里\n",
    "    for i, input_ids in enumerate(input_ids_list):\n",
    "        input_ids_tensor[i, :len(input_ids)] = torch.tensor(input_ids, dtype = torch.long)\n",
    "        token_type_ids_tensor[i, :len(input_ids)] = torch.tensor(token_type_ids_list[i], dtype= torch.long)\n",
    "        attention_mask_tensor[i, :len(input_ids)] = torch.tensor(attention_mask_list[i], dtype= torch.long)\n",
    "        \n",
    "        \n",
    "    return {\n",
    "        'input_ids': input_ids_tensor,\n",
    "        'label': torch.tensor(labels, dtype = torch.long),\n",
    "        'token_type_ids': token_type_ids_tensor,\n",
    "        'attention_mask':  attention_mask_tensor\n",
    "    }"
   ]
  },
  {
   "cell_type": "code",
   "execution_count": 5,
   "id": "2329f0c5",
   "metadata": {},
   "outputs": [],
   "source": [
    "from transformers import BertTokenizer\n",
    "from torch.utils.data import DataLoader\n",
    "def build_dataloader(config):\n",
    "    #加载词表\n",
    "    tokenizer = BertTokenizer.from_pretrained(config['model_path'])\n",
    "    X_train, y_train, X_val, y_val, label2id, id2label = read_data(config, tokenizer, mode='train')\n",
    "    X_test, y_test = read_data(config, tokenizer, mode='test')\n",
    "    \n",
    "    train_dataset = TNEWSData(X_train, y_train)\n",
    "    val_dataset=TNEWSData(X_val, y_val)\n",
    "    test_dataset = TNEWSData(X_test, y_test)\n",
    "    \n",
    "    train_dataloader = DataLoader(train_dataset, batch_size=config['batch_size'], num_workers=4, shuffle=True, collate_fn=collate_fn)\n",
    "    val_dataloader = DataLoader(val_dataset, batch_size=config['batch_size'], num_workers=4, shuffle=False, collate_fn=collate_fn)\n",
    "    test_dataloader = DataLoader(test_dataset, batch_size=config['batch_size'], num_workers=4, shuffle=False, collate_fn=collate_fn)\n",
    "    \n",
    "    \n",
    "    return train_dataloader, val_dataloader, test_dataloader, id2label"
   ]
  },
  {
   "cell_type": "code",
   "execution_count": 6,
   "id": "e6d832ed",
   "metadata": {},
   "outputs": [
    {
     "name": "stderr",
     "output_type": "stream",
     "text": [
      "preprocess train data: 100%|███████████████████████████████████████████████████| 53360/53360 [00:15<00:00, 3543.85it/s]\n",
      "preprocess test data: 100%|████████████████████████████████████████████████████| 10000/10000 [00:02<00:00, 3580.50it/s]\n"
     ]
    }
   ],
   "source": [
    "train_dataloader, val_dataloader, test_dataloader, id2label = build_dataloader(config)"
   ]
  },
  {
   "cell_type": "code",
   "execution_count": null,
   "id": "76fb29d0",
   "metadata": {},
   "outputs": [],
   "source": [
    "for batch in tqdm(iter(train_dataloader)):\n",
    "    print(batch)\n",
    "    break"
   ]
  },
  {
   "cell_type": "code",
   "execution_count": null,
   "id": "f9b73400",
   "metadata": {},
   "outputs": [
    {
     "name": "stderr",
     "output_type": "stream",
     "text": [
      "\r",
      "  0%|                                                                                         | 0/3002 [00:00<?, ?it/s]"
     ]
    }
   ],
   "source": [
    "for _id, batch in tqdm(train_dataloader):\n",
    "    print(batch)\n",
    "    break"
   ]
  },
  {
   "cell_type": "code",
   "execution_count": null,
   "id": "ec9e80d5",
   "metadata": {},
   "outputs": [],
   "source": []
  }
 ],
 "metadata": {
  "kernelspec": {
   "display_name": "Python 3 (ipykernel)",
   "language": "python",
   "name": "python3"
  },
  "language_info": {
   "codemirror_mode": {
    "name": "ipython",
    "version": 3
   },
   "file_extension": ".py",
   "mimetype": "text/x-python",
   "name": "python",
   "nbconvert_exporter": "python",
   "pygments_lexer": "ipython3",
   "version": "3.9.7"
  }
 },
 "nbformat": 4,
 "nbformat_minor": 5
}
